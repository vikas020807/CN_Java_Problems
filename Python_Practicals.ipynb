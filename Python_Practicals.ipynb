{
  "nbformat": 4,
  "nbformat_minor": 0,
  "metadata": {
    "colab": {
      "name": "Python_Practicals.ipynb",
      "provenance": [],
      "authorship_tag": "ABX9TyNHg3N4EqC9OjS+QO4nkhNL",
      "include_colab_link": true
    },
    "kernelspec": {
      "name": "python3",
      "display_name": "Python 3"
    },
    "language_info": {
      "name": "python"
    }
  },
  "cells": [
    {
      "cell_type": "markdown",
      "metadata": {
        "id": "view-in-github",
        "colab_type": "text"
      },
      "source": [
        "<a href=\"https://colab.research.google.com/github/vikas020807/CN_Java_Problems/blob/main/Python_Practicals.ipynb\" target=\"_parent\"><img src=\"https://colab.research.google.com/assets/colab-badge.svg\" alt=\"Open In Colab\"/></a>"
      ]
    },
    {
      "cell_type": "code",
      "execution_count": 3,
      "metadata": {
        "colab": {
          "base_uri": "https://localhost:8080/"
        },
        "id": "Zh7Qok0jJUxM",
        "outputId": "6b2b1d3e-845e-456e-c859-71172303cd90"
      },
      "outputs": [
        {
          "output_type": "stream",
          "name": "stdout",
          "text": [
            "Enter 1st number: 64\n",
            "Enter 1st number: 48\n",
            "GCD is  16\n"
          ]
        }
      ],
      "source": [
        "num1 = int(input(\"Enter 1st number: \"))\n",
        "num2 = int(input(\"Enter 1st number: \"))\n",
        "i=1\n",
        "\n",
        "while(i<=num1 and i<=num2):\n",
        "  if(num1%i==0 and num2%i==0):\n",
        "    gcd=i\n",
        "  i+=1\n",
        "print(\"GCD is \",gcd)    "
      ]
    },
    {
      "cell_type": "code",
      "source": [
        ""
      ],
      "metadata": {
        "id": "WVPs8_PpMHez"
      },
      "execution_count": null,
      "outputs": []
    }
  ]
}